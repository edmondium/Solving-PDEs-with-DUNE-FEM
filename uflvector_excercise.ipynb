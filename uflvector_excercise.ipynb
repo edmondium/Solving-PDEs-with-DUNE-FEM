{
 "cells": [
  {
   "cell_type": "markdown",
   "id": "f6c5b6c6",
   "metadata": {
    "lines_to_next_cell": 2
   },
   "source": [
    "# Problem\n",
    "We want to use quadratic finite elements over\n",
    "$$ \\Omega = \\big [-\\frac{1}{2},\\frac{1}{2} \\big ]^2 $$\n",
    "to solve the vector valued PDE:\n",
    "\n",
    "\\begin{alignat*}{2}\n",
    "  -\\Delta u_1 + u_1 &= f_1~,\\qquad & \\nabla u_1\\cdot n=0~, \\\\\n",
    "  -\\Delta u_2 + u_2 &= f_2~,\\qquad & \\nabla u_2\\cdot n=g~.\n",
    "\\end{alignat*}\n",
    "where $f_1,f_2,g$ are chosen so that\n",
    "$$ u_1 = \\sin(\\pi x) + \\sin(\\pi y)~,\\qquad\n",
    "   u_2 = \\sin(4\\pi x\\cdot x)~. $$\n",
    "\n",
    "## Necessary imports"
   ]
  },
  {
   "cell_type": "code",
   "execution_count": null,
   "id": "bc516ad0",
   "metadata": {},
   "outputs": [],
   "source": [
    "import numpy as np\n",
    "\n",
    "from dune.grid import cartesianDomain\n",
    "from dune.alugrid import aluConformGrid as leafGridView\n",
    "\n",
    "from ufl import SpatialCoordinate, sin, sqrt, dot\n",
    "from ufl import as_vector\n",
    "from ufl import TrialFunction, TestFunction\n",
    "from ufl import grad, div, inner, dx, pi\n",
    "from ufl import FacetNormal, ds\n",
    "\n",
    "from dune.fem.space import lagrange\n",
    "from dune.fem.scheme import galerkin\n",
    "from dune.fem.function import uflFunction\n",
    "from dune.fem.plotting import plotPointData as plot\n",
    "\n",
    "from dune.fem.function import integrate"
   ]
  },
  {
   "cell_type": "markdown",
   "id": "8c72b702",
   "metadata": {
    "lines_to_next_cell": 2
   },
   "source": [
    "## Setup of grid and space\n",
    "We want to setup a quadratic finite element space $V_h$ over $\\mathcal{T}_h$."
   ]
  },
  {
   "cell_type": "code",
   "execution_count": null,
   "id": "cd1d1cc1",
   "metadata": {},
   "outputs": [],
   "source": [
    "domain = cartesianDomain([-0.5,-0.5],[0.5,0.5],[4,4])\n",
    "view = leafGridView(domain)\n",
    "space = lagrange(view, order=2, dimRange=2)\n",
    "\n",
    "x,n = SpatialCoordinate(space), FacetNormal(space)\n",
    "u,v = TrialFunction(space), TestFunction(space)"
   ]
  },
  {
   "cell_type": "markdown",
   "id": "6cf25535",
   "metadata": {
    "lines_to_next_cell": 2
   },
   "source": [
    "The exact solution is given by $u = (u_1,u_2)^T$."
   ]
  },
  {
   "cell_type": "code",
   "execution_count": null,
   "id": "0728d362",
   "metadata": {
    "lines_to_next_cell": 2
   },
   "outputs": [],
   "source": [
    "exact = as_vector( [sin(pi*x[0]) + sin(pi*x[1]),\n",
    "                    sin(4*pi*dot(x,x))] )"
   ]
  },
  {
   "cell_type": "markdown",
   "id": "aa0fa4ee",
   "metadata": {
    "lines_to_next_cell": 2
   },
   "source": [
    "The weak form is given by\n",
    "\\begin{alignat*}{2}\n",
    " a(u,v) &= \\int_{\\Omega} \\nabla u \\nabla v + u v \\, dx \\\\\n",
    "   b(v) &= \\int_{\\Omega} (\\Delta u_1 + u_1) v_1 \\, dx\n",
    "         + \\int_{\\Omega} (\\Delta u_2 + u_2) v_2 \\, dx\n",
    "         + \\int_{\\Omega} (\\nabla u_2 \\cdot n) v_2 \\, ds\n",
    "\\end{alignat*}\n"
   ]
  },
  {
   "cell_type": "code",
   "execution_count": null,
   "id": "e218aba9",
   "metadata": {},
   "outputs": [],
   "source": [
    "a  = inner( grad(u), grad(v) ) * dx + dot(u,v) * dx\n",
    "b  = (-div(grad(exact[0])) + exact[0]) * v[0] * dx\n",
    "b += (-div(grad(exact[1])) + exact[1]) * v[1] * dx\n",
    "b += dot(grad(exact[1]),n) * v[1] * ds"
   ]
  },
  {
   "cell_type": "markdown",
   "id": "c7a7f61f",
   "metadata": {
    "lines_to_next_cell": 2
   },
   "source": [
    "By default the scheme uses a _gmres_ solver but the given bilinear form\n",
    "is symmetric so we can use _cg_ instead:"
   ]
  },
  {
   "cell_type": "code",
   "execution_count": null,
   "id": "6ef27727",
   "metadata": {},
   "outputs": [],
   "source": [
    "scheme = galerkin(a==b, solver=\"cg\")"
   ]
  },
  {
   "cell_type": "markdown",
   "id": "222d0d64",
   "metadata": {
    "lines_to_next_cell": 2
   },
   "source": [
    "Create $u_h \\in V_h$."
   ]
  },
  {
   "cell_type": "code",
   "execution_count": null,
   "id": "09fcd528",
   "metadata": {},
   "outputs": [],
   "source": [
    "uh = space.interpolate([0,0], name=\"solution\")"
   ]
  },
  {
   "cell_type": "markdown",
   "id": "ca7c7dd4",
   "metadata": {
    "lines_to_next_cell": 2
   },
   "source": [
    "Refine the grid a few times and on each level compute the solution and\n",
    "compute the errors\n",
    "$$ \\|e_h\\|_0^2 := \\int_\\Omega |e_h|^2~,\\qquad\n",
    "   \\|e_h\\|_1^2 := \\int_\\Omega |\\nabla e_h|^2~. $$"
   ]
  },
  {
   "cell_type": "code",
   "execution_count": null,
   "id": "7fdb70fb",
   "metadata": {
    "lines_to_next_cell": 2
   },
   "outputs": [],
   "source": [
    "for l in range(3):\n",
    "    view.hierarchicalGrid.globalRefine(2)\n",
    "    scheme.solve(target=uh)\n",
    "    error = uh-exact\n",
    "    h1Error = as_vector( [inner(error,error),\n",
    "               inner(grad(error),grad(error))] )\n",
    "\n",
    "    print(view.size(0), space.size,\n",
    "            np.sqrt( integrate(view,h1Error,order=5) )\n",
    "         )"
   ]
  },
  {
   "cell_type": "code",
   "execution_count": null,
   "id": "625f0dc2",
   "metadata": {},
   "outputs": [],
   "source": [
    "plot(uh[0])\n",
    "plot(uh[1])"
   ]
  }
 ],
 "metadata": {
  "jupytext": {
   "cell_metadata_filter": "-all",
   "main_language": "python",
   "notebook_metadata_filter": "-all"
  }
 },
 "nbformat": 4,
 "nbformat_minor": 5
}
