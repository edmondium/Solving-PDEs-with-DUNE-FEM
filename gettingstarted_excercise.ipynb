{
 "cells": [
  {
   "cell_type": "markdown",
   "id": "6816b305",
   "metadata": {
    "lines_to_next_cell": 2
   },
   "source": [
    "# Grid Construction\n",
    "The simplest approach to construct a grid is to\n",
    "use the `structuredGrid` functions which takes\n",
    "coordinates of the lower left and upper right\n",
    "corner of the domain and the subdivision to use\n",
    "in each coordinate direction.\n",
    "\n",
    "Setup a Cartesian grid for $[-\\frac{1}{2},-\\frac{1}{2}]\\times [2,1]$\n",
    "with $10$ cells in the x direction and $20$ in the y direction:"
   ]
  },
  {
   "cell_type": "code",
   "execution_count": null,
   "id": "e81839a0",
   "metadata": {},
   "outputs": [],
   "source": []
  },
  {
   "cell_type": "markdown",
   "id": "6b1fe0f1",
   "metadata": {},
   "source": [
    "To construct more complicated grids, we\n",
    "can use Python dictionaries which stores key/value\n",
    "pairs in the form\n",
    "```\n",
    "`{key1:value1, key2:value2,...}`.\n",
    "```\n",
    "For example construct some triangular grid using 'ALUGrid`"
   ]
  },
  {
   "cell_type": "code",
   "execution_count": null,
   "id": "39313de2",
   "metadata": {},
   "outputs": [],
   "source": []
  },
  {
   "cell_type": "markdown",
   "id": "fa874537",
   "metadata": {
    "lines_to_next_cell": 2
   },
   "source": [
    "with four triangles and corners\n",
    "$(0,0),(1,0),(1,1),(-1,1),(-1,-1),(0,-1)$:"
   ]
  },
  {
   "cell_type": "code",
   "execution_count": null,
   "id": "3d938470",
   "metadata": {},
   "outputs": [],
   "source": []
  },
  {
   "cell_type": "markdown",
   "id": "edd2442e",
   "metadata": {
    "lines_to_next_cell": 2
   },
   "source": [
    "## Using the grid:\n",
    "The most common task is to iterate over the elements\n",
    "(codimension zero entities) of the grid.\n",
    "This can be done with a simple for loop\n",
    "```\n",
    "for element in view.elements:\n",
    "```\n",
    "The element provides all its geometric\n",
    "information through the `geometry` property.\n",
    "The returned object provides all information\n",
    "concerning the mapping from reference into\n",
    "physical space, i.e., the center of the element\n",
    "its volume, the reference mapping, or the coordinats\n",
    "of the corners using `element.geometry.corners` which returns a vector\n",
    "of the corner points (in fact it returns a list of `Dune::FiledVector`\n",
    "instances.\n",
    "\n",
    "Print the volume and the center for all elements. There are two ways to\n",
    "obtain the center - try both:"
   ]
  },
  {
   "cell_type": "code",
   "execution_count": null,
   "id": "b4962aa6",
   "metadata": {},
   "outputs": [],
   "source": []
  },
  {
   "cell_type": "markdown",
   "id": "6a6c5c34",
   "metadata": {
    "lines_to_next_cell": 2
   },
   "source": [
    "## Grid Functions\n",
    "It's also quite easy to construct functions\n",
    "defined over the grid, i.e., grid-functions.\n",
    "These are functions that can be evaluated given\n",
    "an element and a local coordinate, i.e., a coordinate\n",
    "in the reference element.\n",
    "\n",
    "Grid functions are usual Python functions either\n",
    "of the form `def f(globalx)` or `def f(element,localx)`\n",
    "using a Python decorator - the decorator provides some extra\n",
    "functionality like a `plot` function.\n",
    "\n",
    "Use both versions to write a grid function for\n",
    "$|x|\\;\\sin(20x_1x_2)$ and plot the resulting grid function:"
   ]
  },
  {
   "cell_type": "code",
   "execution_count": null,
   "id": "ae0a0def",
   "metadata": {},
   "outputs": [],
   "source": []
  },
  {
   "cell_type": "markdown",
   "id": "26dc506c",
   "metadata": {
    "lines_to_next_cell": 2
   },
   "source": [
    "Write a piecewise constant grid function that on each element returns\n",
    "the abosolute value of the center of the element.\n",
    "\n",
    "Note: the return value of `geometry.center` provides an attribute\n",
    "`two_norm`:"
   ]
  },
  {
   "cell_type": "code",
   "execution_count": null,
   "id": "20bb0e66",
   "metadata": {},
   "outputs": [],
   "source": []
  },
  {
   "cell_type": "markdown",
   "id": "0f5e7165",
   "metadata": {
    "lines_to_next_cell": 2
   },
   "source": [
    "Independent of the signature of the function used,\n",
    "one can evaluate each grid function given an element\n",
    "and a local coordinate.\n",
    "\n",
    "Iterate over the grid and print the value of all your your grid functions\n",
    "in the center of the elements."
   ]
  },
  {
   "cell_type": "code",
   "execution_count": null,
   "id": "999e8ec0",
   "metadata": {},
   "outputs": [],
   "source": []
  },
  {
   "cell_type": "markdown",
   "id": "5fea20da",
   "metadata": {
    "lines_to_next_cell": 2
   },
   "source": [
    "Refine the grid a view times (three times for example) and plot all\n",
    "functions again:"
   ]
  },
  {
   "cell_type": "code",
   "execution_count": null,
   "id": "a1f6d246",
   "metadata": {},
   "outputs": [],
   "source": []
  },
  {
   "cell_type": "markdown",
   "id": "a1b72a81",
   "metadata": {},
   "source": [
    "Finally we can write vtk files which can be viewed\n",
    "with some third party software e.g. `paraview` -\n",
    "```Python\n",
    "view.writeVTK(\"sin\", pointdata=[f1,f2,center])\n",
    "```"
   ]
  },
  {
   "cell_type": "markdown",
   "id": "b92cccef",
   "metadata": {
    "lines_to_next_cell": 2
   },
   "source": [
    "## Attaching data to the grid\n",
    "For this we use a `mapper` $g_T$ provided by the\n",
    "grid. It is constructed by passing in a `layout`,\n",
    "i.e., how many degrees of freedom are needed per\n",
    "subentity (in fact per `geometry` type...)\n",
    "\n",
    "Let's attach two degree of freedom to each\n",
    "vertex and one degree of freedom to each edge and print\n",
    "the number of dofs for a Cartesian grid with 3x2 cells:"
   ]
  },
  {
   "cell_type": "code",
   "execution_count": null,
   "id": "09b504fe",
   "metadata": {},
   "outputs": [],
   "source": []
  },
  {
   "cell_type": "markdown",
   "id": "3ca7314d",
   "metadata": {
    "lines_to_next_cell": 2
   },
   "source": [
    "The easiest way to access all indices attach to an element, i.e.,\n",
    "the vector $\\big(\\mu_T(i)\\big)_i$, # is to call the method\n",
    "`indices=mapper(element)`.\n",
    "\n",
    "The vector of indices contains first the indices for the vertices\n",
    "then come the edges,..., down (or up) to the element's global indices.\n",
    "\n",
    "The order for each set of subentities depends on their\n",
    "numbering in the Dune reference element.\n",
    "\n",
    "Iterate over the grid and print the indices attached to each element:\n",
    "Draw a sketch of the grid and try to see if you understand the results..."
   ]
  },
  {
   "cell_type": "code",
   "execution_count": null,
   "id": "c827ca45",
   "metadata": {},
   "outputs": [],
   "source": []
  },
  {
   "cell_type": "markdown",
   "id": "7f07620a",
   "metadata": {
    "lines_to_next_cell": 2
   },
   "source": [
    "Now to some 'real' example:\n",
    "we compute the linear interpolation of a grid function $u$\n",
    "over a triangular grid.\n",
    "\n",
    "We need to attach one degree of freedom to each vertex $p$\n",
    "which corresponds to the value of the function at $p$.\n",
    "We store the degrees of freedom in a numpy array.\n",
    "\n",
    "On each triangle with vertices $p_0,p_1,p_2$\n",
    "the discrete function is now given by the unique\n",
    "linear function taking the values\n",
    "$u(p_0),u(p_1),u(p_2)$\n",
    "at the three vertices. This function is\n",
    "\\begin{align*}\n",
    "  u_h(e,\\hat x) = u(p_0)(1-\\hat x_0-\\hat x_1)+u(p_1)\\hat x_0+u(p_2)\\hat x_1\n",
    "\\end{align*}\n",
    "where $\\hat x_0, \\hat x_1$ is the coordinate in the reference element.\n",
    "\n",
    "Write a function `linear interpolation` that takes a grid function `u`\n",
    "and a grid view and returns the mapper and vector of degrees of freedom (dofs),\n",
    "i.e., the numpy array storing the values of `u` at the vertices.\n",
    "\n",
    "Note: note that a grid function has an attribute `view`.\n",
    "\n",
    "Then write a grid function `u_h` that returns the linear interpolation\n",
    "for the given dof vector and mapper.\n",
    "\n",
    "Use the unstructured grid you setup before and refine it 3 time globally."
   ]
  },
  {
   "cell_type": "code",
   "execution_count": null,
   "id": "7db42245",
   "metadata": {},
   "outputs": [],
   "source": []
  },
  {
   "cell_type": "markdown",
   "id": "51c5ef1b",
   "metadata": {
    "lines_to_next_cell": 2
   },
   "source": [
    "Let's compute the maximum interpolation error by\n",
    "comparing the linear interpolation `u_h` at the\n",
    "center of each element with the value of `u` and printing\n",
    "the maximum value:"
   ]
  },
  {
   "cell_type": "code",
   "execution_count": null,
   "id": "cccb470a",
   "metadata": {
    "lines_to_next_cell": 2
   },
   "outputs": [],
   "source": []
  }
 ],
 "metadata": {
  "jupytext": {
   "cell_metadata_filter": "-all",
   "main_language": "python",
   "notebook_metadata_filter": "-all"
  }
 },
 "nbformat": 4,
 "nbformat_minor": 5
}
