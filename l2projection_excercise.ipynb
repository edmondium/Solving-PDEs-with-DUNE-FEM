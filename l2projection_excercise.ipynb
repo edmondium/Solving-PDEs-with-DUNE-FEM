{
 "cells": [
  {
   "cell_type": "markdown",
   "id": "de8a1186",
   "metadata": {},
   "source": [
    "# A projection into a finite element space\n",
    "The following requires assembly a finite element\n",
    "matrix (the mass matrix) and a right hand side.\n",
    "We use linear Lagrange shape functions.\n",
    "\n",
    "So we are looking for the $L^2$ projection\n",
    "\\begin{align*}\n",
    "   u_h(x) = \\sum_k u_k\\varphi_k(x)\n",
    "\\end{align*}\n",
    "which is the solution of\n",
    "\\begin{align*}\n",
    "  \\int_\\Omega u_h\\varphi_i &= \\int_\\Omega u\\varphi_i, && \\text{for all $i$}\n",
    "\\end{align*}\n",
    "We assume that on an element $E$ we have\n",
    "\\begin{align*}\n",
    "  \\varphi_{g_E(k)}(x) = \\hat\\varphi_k(F_E^{-1}(x))\n",
    "\\end{align*}\n",
    "for $k=0,1,2$ and where $g_E$ denotes the local to global dof mapper\n",
    "and $F_E$ is the reference mapping.\n",
    "\n",
    "So we need to compute\n",
    "\\begin{align*}\n",
    "  M^E_{kl} := \\int_{\\hat{E}} |DF|\\hat\\varphi_k\\hat\\varphi_l~, &&\n",
    "  b^E_l := \\int_E u\\varphi_l~,\n",
    "\\end{align*}\n",
    "and distribute these into a global matrix."
   ]
  },
  {
   "cell_type": "code",
   "execution_count": null,
   "id": "293ecf09",
   "metadata": {
    "title": "[keep]"
   },
   "outputs": [],
   "source": [
    "import numpy\n",
    "import scipy.sparse\n",
    "import scipy.sparse.linalg\n",
    "from dune.geometry import quadratureRules, quadratureRule\n",
    "from dune.grid import cartesianDomain, gridFunction\n",
    "\n",
    "# We will use a triangular grid for this exercise\n",
    "from dune.alugrid import aluConformGrid"
   ]
  },
  {
   "cell_type": "markdown",
   "id": "f826afb1",
   "metadata": {
    "lines_to_next_cell": 2
   },
   "source": [
    "## The shape functions\n",
    "We use a simple class here to collect all required\n",
    "information about the finite element space, i.e.,\n",
    "how to evaluate the shape functions on the reference\n",
    "element (together with their derivatives). We also\n",
    "setup a mapper to attach the degrees of freedom to\n",
    "the entities of the grid.\n",
    "\n",
    "### Task\n",
    "Write a class LinearLagrangeSpace that provides 3 methods:\n",
    "```\n",
    "class LinearLagrangeSpace:\n",
    "   def __init__(self,view):\n",
    "       # TODO: Create a mapper for vertex indices\n",
    "       self.mapper = see yesterdays exercises\n",
    "       self.localDofs = 3\n",
    "       self.points = numpy.array( [ [0,0],[1,0],[0,1] ] )\n",
    "   def evaluateLocal(self, x):\n",
    "       # TODO: Return a numpy array with the evaluations\n",
    "       #       of the 3 basis functions in local point x\n",
    "       # return numpy.array( [] )\n",
    "       pass\n",
    "   def gradientLocal(self, x):\n",
    "       # TODO: Return a numpy array with the evaluations\n",
    "       #       of the gradients of the 3 basis functions in local point x\n",
    "       # return numpy.array( dbary )\n",
    "       pass\n",
    "```\n"
   ]
  },
  {
   "cell_type": "code",
   "execution_count": null,
   "id": "faa359bb",
   "metadata": {},
   "outputs": [],
   "source": [
    "##### TASK"
   ]
  },
  {
   "cell_type": "markdown",
   "id": "4cec12af",
   "metadata": {
    "lines_to_next_cell": 2
   },
   "source": [
    "## The right hand side and matrix assembly\n",
    "We need to iterate over the grid, construct the\n",
    "local right hand side and the local system matrix.\n",
    "After finishing the quadrature loop we store the\n",
    "resulting local matrix in a structure provided by\n",
    "the Python package scipy. There are many different\n",
    "storage structures available - we use the so called\n",
    "'coordinate' (COO) matrix format which requires us\n",
    "construct three vectors, one to store the column\n",
    "indices, one for the row indices, and one for the\n",
    "values. The convention is that entries appearing\n",
    "multiple times are summed up - exactly as we need it.\n",
    "So after computing the local matrix and right hand side vector\n",
    "$M^E$ we store the values $M^E_{kl}$ into the\n",
    "values vector $v_{{\\rm start}+3l+k} = M^E_{kl}$\n",
    "and the associated global indices\n",
    "$c_{{\\rm start}+3l+k} = g_E(k)$ and\n",
    "$r_{{\\rm start}+3l+k} = g_E(l)$.\n",
    "\n",
    "### Task\n",
    "Implement a function that assembles the system matrix and the forcing term.\n",
    "For this we will use the LinearLagrangeSpace. Use the attribute mapper from the LinearLagrangeSpace for\n",
    "index mapping. Remember that the gradients of the basis functions obtained\n",
    "from the LinearLagrangeSpace need to be converted to physical space using the\n",
    "jacobianInverseTransposed of the geometry.\n",
    "\n",
    "```\n",
    "def assemble(space,force):\n",
    "   # storage for right hand side\n",
    "   rhs = numpy.zeros(len(space.mapper))\n",
    "\n",
    "   # storage for local matrix\n",
    "   localEntries = space.localDofs\n",
    "   localMatrix = numpy.zeros([localEntries,localEntries])\n",
    "\n",
    "   # data structure for global matrix using coordinate (COO) format\n",
    "   globalEntries = localEntries**2 * space.view.size(0)\n",
    "   value = numpy.zeros(globalEntries)\n",
    "   rowIndex, colIndex = numpy.zeros(globalEntries,int), numpy.zeros(globalEntries,int)\n",
    "\n",
    "   # TODO: implement assembly of matrix and forcing term\n",
    "   ...\n",
    "\n",
    "   # convert data structure to compressed row storage (csr)\n",
    "   matrix = scipy.sparse.coo_matrix((value, (rowIndex, colIndex)),\n",
    "                        shape=(len(space.mapper),len(space.mapper))).tocsr()\n",
    "   return rhs,matrix\n",
    "\n",
    "\n",
    "```"
   ]
  },
  {
   "cell_type": "code",
   "execution_count": null,
   "id": "f327b243",
   "metadata": {},
   "outputs": [],
   "source": [
    "##### TASK"
   ]
  },
  {
   "cell_type": "markdown",
   "id": "60949637",
   "metadata": {},
   "source": [
    "## The main part of the code\n",
    "Construct the grid and a grid function for the\n",
    "right hand side, compute the projection and plot\n",
    "on a sequence of global grid refinements:\n",
    "\n",
    "First construct the grid"
   ]
  },
  {
   "cell_type": "code",
   "execution_count": null,
   "id": "55b98060",
   "metadata": {
    "lines_to_next_cell": 1,
    "title": "[keep]"
   },
   "outputs": [],
   "source": [
    "domain = cartesianDomain([0, 0], [1, 1], [10, 10])\n",
    "view   = aluConformGrid(domain)"
   ]
  },
  {
   "cell_type": "markdown",
   "id": "aa62ca48",
   "metadata": {},
   "source": [
    "then the grid function to project"
   ]
  },
  {
   "cell_type": "code",
   "execution_count": null,
   "id": "5e8f1f22",
   "metadata": {
    "title": "[keep]"
   },
   "outputs": [],
   "source": [
    "@gridFunction(view)\n",
    "def u(p):\n",
    "    x,y = p\n",
    "    return numpy.cos(2*numpy.pi*x)*numpy.cos(2*numpy.pi*y)\n",
    "u.plot(level=3)"
   ]
  },
  {
   "cell_type": "markdown",
   "id": "5d2b7525",
   "metadata": {},
   "source": [
    "and then do the projection on a series of globally refined grids"
   ]
  },
  {
   "cell_type": "code",
   "execution_count": null,
   "id": "aea13885",
   "metadata": {
    "lines_to_next_cell": 2,
    "title": "[keep]"
   },
   "outputs": [],
   "source": [
    "for ref in range(3):\n",
    "    space  = LinearLagrangeSpace(view)\n",
    "    print(\"number of elements:\",view.size(0),\"number of dofs:\",len(space.mapper))\n",
    "\n",
    "    rhs,matrix = assemble(space, u)\n",
    "    dofs = scipy.sparse.linalg.spsolve(matrix,rhs)\n",
    "    @gridFunction(view)\n",
    "    def uh(e,x):\n",
    "        indices = space.mapper(e)\n",
    "        phiVals = space.evaluateLocal(x)\n",
    "        localDofs = dofs[indices]\n",
    "        return numpy.dot(localDofs, phiVals)\n",
    "    uh.plot(level=1)\n",
    "    view.hierarchicalGrid.globalRefine(2)"
   ]
  },
  {
   "cell_type": "markdown",
   "id": "fb92ab46",
   "metadata": {},
   "source": [
    "# Some tasks:\n",
    "\n",
    "1.  Compute some error of the projection, i.e., in maximum\n",
    "difference between uh and u at the center of each element,\n",
    "or some $L^2$ type error over the domain, e.g.,\n",
    "\\begin{align*}\n",
    "  \\sqrt{\\int_\\Omega |u-u_h|^2}\n",
    "\\end{align*}\n",
    "What are the EOCs?\n",
    "\n",
    "__Experimental order of convergence__: (EOC)\n",
    "\n",
    "This is a simple proceedure to test if a numerical scheme works:\n",
    "\n",
    "Assume for example that one can prove that the error $e_h$ on a\n",
    "grid with grid spacing $h$ satisfies\n",
    "\\begin{align*}\n",
    "  e_h \\approx Ch^p\n",
    "\\end{align*}\n",
    "then\n",
    "\\begin{align*}\n",
    "  \\log \\frac{e_h}{e_H} \\approx p\\log \\frac{h}{H}\n",
    "\\end{align*}\n",
    "which can be used to get a good idea about the convergence rate $p$\n",
    "using the errors computed on two different levels of a hierarchical grid.\n",
    "\n",
    "2. Implement an interpolation (e.g. as a method on the\n",
    "`LinearLagrangeSpace` class) and compare the errors of the\n",
    "interpolation with the errors/EOCs you computed for the projection.\n",
    "\n",
    "3. Add a class with quadratic finite elements and look at the\n",
    "errors/EOCs.\n",
    "\n",
    "4. Have a look at the errors/EOCs in the derivatives:\n",
    "\\begin{align*}\n",
    "  \\sqrt{\\int_\\Omega |\\nabla u-\\nabla u_h|^2}\n",
    "\\end{align*}\n",
    "Recall how the local basis functions are defined and use\n",
    "the chain rule, the required method on the element's geometry\n",
    "is `jacobianInverseTransposed(x)`...\n",
    "\n",
    "5. Add a stiffness matrix and solve the Neuman problem:\n",
    "\\begin{align*}\n",
    "  -\\Delta u + u &= f, && \\text{in } \\Omega, \\\\\n",
    "     \\nabla u\\cdot n &= 0, && \\text{on } \\partial\\Omega,\n",
    "\\end{align*}\n",
    "where $f$ is for example given by\n",
    "```\n",
    "@gridFunction(view)\n",
    "def forcing(p):\n",
    "    return u(p)*(2*(2*numpy.pi)**2+1)\n",
    "```\n",
    "\n",
    "Solution: this is implemented in `laplaceNeumann.py`\n",
    "\n",
    "6. change the PDE, i.e., include varying coefficients..."
   ]
  }
 ],
 "metadata": {
  "jupytext": {
   "cell_metadata_filter": "title,-all",
   "main_language": "python",
   "notebook_metadata_filter": "-all"
  }
 },
 "nbformat": 4,
 "nbformat_minor": 5
}
