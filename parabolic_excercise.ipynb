{
 "cells": [
  {
   "cell_type": "markdown",
   "id": "e50c4094",
   "metadata": {},
   "source": [
    "# Problem\n",
    "\n",
    "\\begin{equation}\n",
    "  \\partial_tu - \\nabla\\cdot K(\\nabla u)\\nabla u = f\n",
    "\\end{equation}\n",
    "$f=f(x,t)$ is a time dependent forcing term and\n",
    "the diffusion tensor is\n",
    "\\begin{equation}\n",
    "  K(\\nabla u) = \\frac{2}{1+\\sqrt{1+4|\\nabla u|}}\n",
    "\\end{equation}\n",
    "On the boundary we prescribe Neumann boundary conditions and\n",
    "require initial conditions $u(\\cdot,0)=u_0(\\cdot)$.\n",
    "\n",
    "We solve this problem in variational form using Implicit Euler in time\n",
    "\\begin{align*}\n",
    "\\int_{\\Omega} &\\frac{u^{n+1}-u^n}{\\Delta t} \\varphi\n",
    "+ K(\\nabla u^{n+1}) \\nabla u^{n+1} \\cdot \\nabla \\varphi \\; dx\n",
    "= \\int_{\\Omega} f(x,t^n+\\Delta t) \\varphi\\; dx\n",
    "  + \\int_{\\partial \\Omega} g(x,t^n+\\Delta t) \\varphi\\; ds~.\n",
    "\\end{align*}\n",
    "on a domain $\\Omega=[0,1]^2$. We choose $f,g$ so that the exact solution is\n",
    "\\begin{align*}\n",
    "u(x,t) = e^{-2t}\\left(\\frac{1}{2}(x^2 + y^2) - \\frac{1}{3}(x^3 - y^3)\\right) + 1\n",
    "\\end{align*}"
   ]
  },
  {
   "cell_type": "markdown",
   "id": "8872eb38",
   "metadata": {
    "lines_to_next_cell": 2
   },
   "source": [
    "Setup grid and space"
   ]
  },
  {
   "cell_type": "code",
   "execution_count": null,
   "id": "6e0f9be8",
   "metadata": {},
   "outputs": [],
   "source": [
    "import numpy as np\n",
    "from dune.grid import cartesianDomain\n",
    "from dune.alugrid import aluConformGrid as leafGridView\n",
    "from dune.fem.space import lagrange as solutionSpace\n",
    "from dune.fem.scheme import galerkin as solutionScheme\n",
    "from dune.fem.function import integrate, uflFunction\n",
    "\n",
    "domain = cartesianDomain([0, 0], [1, 1], [10, 10])\n",
    "view = leafGridView(domain)\n",
    "space = solutionSpace(view, order=2)"
   ]
  },
  {
   "cell_type": "markdown",
   "id": "33ac4c1a",
   "metadata": {
    "lines_to_next_cell": 2
   },
   "source": [
    "Import UFL variables and define spatial coordinate, test/trial function"
   ]
  },
  {
   "cell_type": "code",
   "execution_count": null,
   "id": "a0d4c5c5",
   "metadata": {},
   "outputs": [],
   "source": [
    "from dune.ufl import DirichletBC, Constant\n",
    "from ufl import TestFunction, TrialFunction, SpatialCoordinate,\\\n",
    "      FacetNormal, dx, ds, div, grad, dot, inner, sqrt, exp, sin\n",
    "\n",
    "x = SpatialCoordinate(space)\n",
    "n = FacetNormal(space)\n",
    "u = TrialFunction(space)\n",
    "v = TestFunction(space)"
   ]
  },
  {
   "cell_type": "markdown",
   "id": "842fc02a",
   "metadata": {
    "lines_to_next_cell": 2
   },
   "source": [
    "Define initial condition and exact solution"
   ]
  },
  {
   "cell_type": "code",
   "execution_count": null,
   "id": "27c778a9",
   "metadata": {},
   "outputs": [],
   "source": [
    "initial = 1/2*(x[0]**2+x[1]**2)-1/3*(x[0]**3-x[1]**3)+1\n",
    "exact   = lambda t: exp(-2*t)*(initial - 1) + 1\n",
    "dtExact = lambda s: -2*exp(-2*s)*(initial - 1)"
   ]
  },
  {
   "cell_type": "markdown",
   "id": "c2781921",
   "metadata": {
    "lines_to_next_cell": 2
   },
   "source": [
    "Define discrete functions, one for $u^{n+1}$ and one for $u^n$.\n",
    "We also define two constants which can be used as floats in\n",
    "ufl expressions but can be changed at a later stage without requiring\n",
    "any recompilation."
   ]
  },
  {
   "cell_type": "code",
   "execution_count": null,
   "id": "7dfe08e4",
   "metadata": {},
   "outputs": [],
   "source": [
    "u_h   = space.interpolate(initial, name='u_h')\n",
    "u_h_n = u_h.copy(name=\"previous\")\n",
    "\n",
    "dt = Constant(0, name=\"dt\")    # time step\n",
    "t  = Constant(0, name=\"t\")     # current time"
   ]
  },
  {
   "cell_type": "markdown",
   "id": "85d8651b",
   "metadata": {
    "lines_to_next_cell": 2
   },
   "source": [
    "Now setup the model and the scheme:\n",
    "\\begin{align*}\n",
    "\\int_{\\Omega} &\\frac{u^{n+1}-u^n}{\\Delta t} \\varphi\n",
    "+ K(\\nabla u^{n+1}) \\nabla u^{n+1} \\cdot \\nabla \\varphi \\; dx\n",
    "= \\int_{\\Omega} f(x,t^n+\\Delta t) \\varphi\\; dx\n",
    "  + \\int_{\\partial \\Omega} g(x,t^n+\\Delta t) \\varphi\\; ds~.\n",
    "\\end{align*}\n"
   ]
  },
  {
   "cell_type": "code",
   "execution_count": null,
   "id": "b1674951",
   "metadata": {},
   "outputs": [],
   "source": [
    "abs_du = lambda u: sqrt(inner(grad(u), grad(u)))\n",
    "K = lambda u: 2/(1 + sqrt(1 + 4*abs_du(u)))\n",
    "f = lambda s: dtExact(t) - div( K(exact(s))*grad(exact(s)) )\n",
    "g = lambda s: K(exact(s))*grad(exact(s))"
   ]
  },
  {
   "cell_type": "markdown",
   "id": "cebb9d8c",
   "metadata": {
    "lines_to_next_cell": 2
   },
   "source": [
    "\n",
    "## Task\n",
    "Implement the form __a__ and right hand side __b__ as described above, using\n",
    "terms $K$, $f$, and $g$."
   ]
  },
  {
   "cell_type": "code",
   "execution_count": null,
   "id": "a53425fd",
   "metadata": {},
   "outputs": [],
   "source": [
    "##### TASK"
   ]
  },
  {
   "cell_type": "markdown",
   "id": "e9f604c3",
   "metadata": {
    "lines_to_next_cell": 2
   },
   "source": [
    "A Galerkin scheme is created that allows us to solve the equation $a=b$."
   ]
  },
  {
   "cell_type": "code",
   "execution_count": null,
   "id": "0ab67a22",
   "metadata": {},
   "outputs": [],
   "source": [
    "scheme = solutionScheme(a == b, solver='cg')"
   ]
  },
  {
   "cell_type": "markdown",
   "id": "daa90f94",
   "metadata": {
    "lines_to_next_cell": 2
   },
   "source": [
    "Time loop: first choose a time step and then iterate\n",
    "from $t^0=0$ to $t^N=N\\Delta t =0.25$.\n",
    "We write vtk files every after every 0.05 time interval."
   ]
  },
  {
   "cell_type": "code",
   "execution_count": null,
   "id": "e1a89eca",
   "metadata": {},
   "outputs": [],
   "source": [
    "scheme.model.dt = 0.0025\n",
    "saveInterval = 0.05\n",
    "vtk = view.sequencedVTK(\"reactionsystem\", pointdata=[u_h])\n",
    "nextSaveTime = saveInterval\n",
    "vtk()\n",
    "\n",
    "time = 0\n",
    "while time <= 0.25:\n",
    "    u_h_n.assign(u_h)\n",
    "    scheme.solve(target=u_h)\n",
    "    time += scheme.model.dt\n",
    "    scheme.model.t = time\n",
    "    if time >= nextSaveTime or time >= 0.25:\n",
    "        vtk()\n",
    "        nextSaveTime += saveInterval"
   ]
  },
  {
   "cell_type": "markdown",
   "id": "0cb964f4",
   "metadata": {
    "lines_to_next_cell": 2
   },
   "source": [
    "Plot result and compute error"
   ]
  },
  {
   "cell_type": "code",
   "execution_count": null,
   "id": "41f9eb03",
   "metadata": {},
   "outputs": [],
   "source": [
    "u_h.plot()\n",
    "\n",
    "error = dot(u_h-exact(t),u_h-exact(t))\n",
    "error = np.sqrt( integrate(view, error, order=5) )\n",
    "print(\"error at final time=\", error)"
   ]
  }
 ],
 "metadata": {
  "jupytext": {
   "cell_metadata_filter": "-all",
   "main_language": "python",
   "notebook_metadata_filter": "-all"
  }
 },
 "nbformat": 4,
 "nbformat_minor": 5
}
